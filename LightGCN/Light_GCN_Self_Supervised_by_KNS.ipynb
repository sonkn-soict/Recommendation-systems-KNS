{
  "cells": [
    {
      "cell_type": "markdown",
      "metadata": {
        "id": "51add8c9"
      },
      "source": [
        "# Imports"
      ],
      "id": "51add8c9"
    },
    {
      "cell_type": "code",
      "execution_count": null,
      "metadata": {
        "id": "p1V4nz5FFBKt",
        "colab": {
          "base_uri": "https://localhost:8080/"
        },
        "outputId": "86c0f45d-c76c-4b60-fbb9-aefb96228912"
      },
      "outputs": [
        {
          "output_type": "stream",
          "name": "stdout",
          "text": [
            "2.1.0+cu121\n"
          ]
        }
      ],
      "source": [
        "import torch\n",
        "print(torch.__version__)"
      ],
      "id": "p1V4nz5FFBKt"
    },
    {
      "cell_type": "code",
      "execution_count": null,
      "metadata": {
        "id": "ard-FoLSIFIz",
        "colab": {
          "base_uri": "https://localhost:8080/"
        },
        "outputId": "03be22f9-8529-4d80-959b-a2d4dd9ebd7d"
      },
      "outputs": [
        {
          "output_type": "stream",
          "name": "stdout",
          "text": [
            "Looking in links: https://data.pyg.org/whl/torch-2.1.0+cu121.html\n",
            "Requirement already satisfied: torch_scatter in /usr/local/lib/python3.10/dist-packages (2.1.2+pt21cu121)\n",
            "Requirement already satisfied: torch_sparse in /usr/local/lib/python3.10/dist-packages (0.6.18+pt21cu121)\n",
            "Requirement already satisfied: scipy in /usr/local/lib/python3.10/dist-packages (from torch_sparse) (1.11.4)\n",
            "Requirement already satisfied: numpy<1.28.0,>=1.21.6 in /usr/local/lib/python3.10/dist-packages (from scipy->torch_sparse) (1.23.5)\n"
          ]
        }
      ],
      "source": [
        "!pip install torch_scatter torch_sparse -f https://data.pyg.org/whl/torch-2.1.0+cu121.html"
      ],
      "id": "ard-FoLSIFIz"
    },
    {
      "cell_type": "code",
      "execution_count": null,
      "metadata": {
        "id": "AvlNLzyL7t9N",
        "colab": {
          "base_uri": "https://localhost:8080/"
        },
        "outputId": "03a2233f-3eb7-4425-d778-482a34276237"
      },
      "outputs": [
        {
          "output_type": "stream",
          "name": "stdout",
          "text": [
            "Requirement already satisfied: torch_geometric in /usr/local/lib/python3.10/dist-packages (2.4.0)\n",
            "Requirement already satisfied: tqdm in /usr/local/lib/python3.10/dist-packages (from torch_geometric) (4.66.1)\n",
            "Requirement already satisfied: numpy in /usr/local/lib/python3.10/dist-packages (from torch_geometric) (1.23.5)\n",
            "Requirement already satisfied: scipy in /usr/local/lib/python3.10/dist-packages (from torch_geometric) (1.11.4)\n",
            "Requirement already satisfied: jinja2 in /usr/local/lib/python3.10/dist-packages (from torch_geometric) (3.1.2)\n",
            "Requirement already satisfied: requests in /usr/local/lib/python3.10/dist-packages (from torch_geometric) (2.31.0)\n",
            "Requirement already satisfied: pyparsing in /usr/local/lib/python3.10/dist-packages (from torch_geometric) (3.1.1)\n",
            "Requirement already satisfied: scikit-learn in /usr/local/lib/python3.10/dist-packages (from torch_geometric) (1.2.2)\n",
            "Requirement already satisfied: psutil>=5.8.0 in /usr/local/lib/python3.10/dist-packages (from torch_geometric) (5.9.5)\n",
            "Requirement already satisfied: MarkupSafe>=2.0 in /usr/local/lib/python3.10/dist-packages (from jinja2->torch_geometric) (2.1.3)\n",
            "Requirement already satisfied: charset-normalizer<4,>=2 in /usr/local/lib/python3.10/dist-packages (from requests->torch_geometric) (3.3.2)\n",
            "Requirement already satisfied: idna<4,>=2.5 in /usr/local/lib/python3.10/dist-packages (from requests->torch_geometric) (3.6)\n",
            "Requirement already satisfied: urllib3<3,>=1.21.1 in /usr/local/lib/python3.10/dist-packages (from requests->torch_geometric) (2.0.7)\n",
            "Requirement already satisfied: certifi>=2017.4.17 in /usr/local/lib/python3.10/dist-packages (from requests->torch_geometric) (2023.11.17)\n",
            "Requirement already satisfied: joblib>=1.1.1 in /usr/local/lib/python3.10/dist-packages (from scikit-learn->torch_geometric) (1.3.2)\n",
            "Requirement already satisfied: threadpoolctl>=2.0.0 in /usr/local/lib/python3.10/dist-packages (from scikit-learn->torch_geometric) (3.2.0)\n"
          ]
        }
      ],
      "source": [
        "!pip install torch_geometric"
      ],
      "id": "AvlNLzyL7t9N"
    },
    {
      "cell_type": "code",
      "execution_count": null,
      "metadata": {
        "id": "59f2afec"
      },
      "outputs": [],
      "source": [
        "# import required modules\n",
        "import random\n",
        "from tqdm.notebook import tqdm\n",
        "import pandas as pd\n",
        "import numpy as np\n",
        "import matplotlib.pyplot as plt\n",
        "from sklearn.model_selection import train_test_split\n",
        "from sklearn import model_selection, metrics, preprocessing\n",
        "import copy\n",
        "from torch_geometric.utils import degree\n",
        "\n",
        "import torch\n",
        "from torch import nn, optim, Tensor\n",
        "\n",
        "from torch_sparse import SparseTensor, matmul\n",
        "\n",
        "from torch_geometric.utils import structured_negative_sampling\n",
        "from torch_geometric.data import download_url, extract_zip\n",
        "from torch_geometric.nn.conv.gcn_conv import gcn_norm\n",
        "from torch_geometric.nn.conv import MessagePassing\n",
        "from torch_geometric.typing import Adj"
      ],
      "id": "59f2afec"
    },
    {
      "cell_type": "markdown",
      "metadata": {
        "id": "a5e5bbd8"
      },
      "source": [
        "# Load Dataset"
      ],
      "id": "a5e5bbd8"
    },
    {
      "cell_type": "code",
      "execution_count": null,
      "metadata": {
        "id": "c5b6bf8a",
        "colab": {
          "base_uri": "https://localhost:8080/"
        },
        "outputId": "93169d95-d6e6-4954-cc08-a1a59082ff2c"
      },
      "outputs": [
        {
          "output_type": "stream",
          "name": "stderr",
          "text": [
            "Using existing file ml-100k.zip\n",
            "Extracting ./ml-100k.zip\n"
          ]
        }
      ],
      "source": [
        "# download the dataset\n",
        "# https://grouplens.org/datasets/movielens/\n",
        "\n",
        "url = 'https://files.grouplens.org/datasets/movielens/ml-100k.zip'\n",
        "extract_zip(download_url(url, '.'), '.')\n",
        "rating_path = './ml-100k/u.data'"
      ],
      "id": "c5b6bf8a"
    },
    {
      "cell_type": "code",
      "execution_count": null,
      "metadata": {
        "id": "5248f04b",
        "colab": {
          "base_uri": "https://localhost:8080/",
          "height": 439
        },
        "outputId": "81b11de8-9b5f-4430-88e3-37d4558916ec"
      },
      "outputs": [
        {
          "output_type": "stream",
          "name": "stdout",
          "text": [
            "   userId  movieId  rating  timestamp\n",
            "0     196      242       3  881250949\n",
            "1     186      302       3  891717742\n",
            "2      22      377       1  878887116\n",
            "3     244       51       2  880606923\n",
            "4     166      346       1  886397596\n",
            "1682\n",
            "943\n"
          ]
        },
        {
          "output_type": "execute_result",
          "data": {
            "text/plain": [
              "             userId        movieId         rating     timestamp\n",
              "count  100000.00000  100000.000000  100000.000000  1.000000e+05\n",
              "mean      462.48475     425.530130       3.529860  8.835289e+08\n",
              "std       266.61442     330.798356       1.125674  5.343856e+06\n",
              "min         1.00000       1.000000       1.000000  8.747247e+08\n",
              "25%       254.00000     175.000000       3.000000  8.794487e+08\n",
              "50%       447.00000     322.000000       4.000000  8.828269e+08\n",
              "75%       682.00000     631.000000       4.000000  8.882600e+08\n",
              "max       943.00000    1682.000000       5.000000  8.932866e+08"
            ],
            "text/html": [
              "\n",
              "  <div id=\"df-e67f7d69-4f6c-4d70-8e19-a12c71617501\" class=\"colab-df-container\">\n",
              "    <div>\n",
              "<style scoped>\n",
              "    .dataframe tbody tr th:only-of-type {\n",
              "        vertical-align: middle;\n",
              "    }\n",
              "\n",
              "    .dataframe tbody tr th {\n",
              "        vertical-align: top;\n",
              "    }\n",
              "\n",
              "    .dataframe thead th {\n",
              "        text-align: right;\n",
              "    }\n",
              "</style>\n",
              "<table border=\"1\" class=\"dataframe\">\n",
              "  <thead>\n",
              "    <tr style=\"text-align: right;\">\n",
              "      <th></th>\n",
              "      <th>userId</th>\n",
              "      <th>movieId</th>\n",
              "      <th>rating</th>\n",
              "      <th>timestamp</th>\n",
              "    </tr>\n",
              "  </thead>\n",
              "  <tbody>\n",
              "    <tr>\n",
              "      <th>count</th>\n",
              "      <td>100000.00000</td>\n",
              "      <td>100000.000000</td>\n",
              "      <td>100000.000000</td>\n",
              "      <td>1.000000e+05</td>\n",
              "    </tr>\n",
              "    <tr>\n",
              "      <th>mean</th>\n",
              "      <td>462.48475</td>\n",
              "      <td>425.530130</td>\n",
              "      <td>3.529860</td>\n",
              "      <td>8.835289e+08</td>\n",
              "    </tr>\n",
              "    <tr>\n",
              "      <th>std</th>\n",
              "      <td>266.61442</td>\n",
              "      <td>330.798356</td>\n",
              "      <td>1.125674</td>\n",
              "      <td>5.343856e+06</td>\n",
              "    </tr>\n",
              "    <tr>\n",
              "      <th>min</th>\n",
              "      <td>1.00000</td>\n",
              "      <td>1.000000</td>\n",
              "      <td>1.000000</td>\n",
              "      <td>8.747247e+08</td>\n",
              "    </tr>\n",
              "    <tr>\n",
              "      <th>25%</th>\n",
              "      <td>254.00000</td>\n",
              "      <td>175.000000</td>\n",
              "      <td>3.000000</td>\n",
              "      <td>8.794487e+08</td>\n",
              "    </tr>\n",
              "    <tr>\n",
              "      <th>50%</th>\n",
              "      <td>447.00000</td>\n",
              "      <td>322.000000</td>\n",
              "      <td>4.000000</td>\n",
              "      <td>8.828269e+08</td>\n",
              "    </tr>\n",
              "    <tr>\n",
              "      <th>75%</th>\n",
              "      <td>682.00000</td>\n",
              "      <td>631.000000</td>\n",
              "      <td>4.000000</td>\n",
              "      <td>8.882600e+08</td>\n",
              "    </tr>\n",
              "    <tr>\n",
              "      <th>max</th>\n",
              "      <td>943.00000</td>\n",
              "      <td>1682.000000</td>\n",
              "      <td>5.000000</td>\n",
              "      <td>8.932866e+08</td>\n",
              "    </tr>\n",
              "  </tbody>\n",
              "</table>\n",
              "</div>\n",
              "    <div class=\"colab-df-buttons\">\n",
              "\n",
              "  <div class=\"colab-df-container\">\n",
              "    <button class=\"colab-df-convert\" onclick=\"convertToInteractive('df-e67f7d69-4f6c-4d70-8e19-a12c71617501')\"\n",
              "            title=\"Convert this dataframe to an interactive table.\"\n",
              "            style=\"display:none;\">\n",
              "\n",
              "  <svg xmlns=\"http://www.w3.org/2000/svg\" height=\"24px\" viewBox=\"0 -960 960 960\">\n",
              "    <path d=\"M120-120v-720h720v720H120Zm60-500h600v-160H180v160Zm220 220h160v-160H400v160Zm0 220h160v-160H400v160ZM180-400h160v-160H180v160Zm440 0h160v-160H620v160ZM180-180h160v-160H180v160Zm440 0h160v-160H620v160Z\"/>\n",
              "  </svg>\n",
              "    </button>\n",
              "\n",
              "  <style>\n",
              "    .colab-df-container {\n",
              "      display:flex;\n",
              "      gap: 12px;\n",
              "    }\n",
              "\n",
              "    .colab-df-convert {\n",
              "      background-color: #E8F0FE;\n",
              "      border: none;\n",
              "      border-radius: 50%;\n",
              "      cursor: pointer;\n",
              "      display: none;\n",
              "      fill: #1967D2;\n",
              "      height: 32px;\n",
              "      padding: 0 0 0 0;\n",
              "      width: 32px;\n",
              "    }\n",
              "\n",
              "    .colab-df-convert:hover {\n",
              "      background-color: #E2EBFA;\n",
              "      box-shadow: 0px 1px 2px rgba(60, 64, 67, 0.3), 0px 1px 3px 1px rgba(60, 64, 67, 0.15);\n",
              "      fill: #174EA6;\n",
              "    }\n",
              "\n",
              "    .colab-df-buttons div {\n",
              "      margin-bottom: 4px;\n",
              "    }\n",
              "\n",
              "    [theme=dark] .colab-df-convert {\n",
              "      background-color: #3B4455;\n",
              "      fill: #D2E3FC;\n",
              "    }\n",
              "\n",
              "    [theme=dark] .colab-df-convert:hover {\n",
              "      background-color: #434B5C;\n",
              "      box-shadow: 0px 1px 3px 1px rgba(0, 0, 0, 0.15);\n",
              "      filter: drop-shadow(0px 1px 2px rgba(0, 0, 0, 0.3));\n",
              "      fill: #FFFFFF;\n",
              "    }\n",
              "  </style>\n",
              "\n",
              "    <script>\n",
              "      const buttonEl =\n",
              "        document.querySelector('#df-e67f7d69-4f6c-4d70-8e19-a12c71617501 button.colab-df-convert');\n",
              "      buttonEl.style.display =\n",
              "        google.colab.kernel.accessAllowed ? 'block' : 'none';\n",
              "\n",
              "      async function convertToInteractive(key) {\n",
              "        const element = document.querySelector('#df-e67f7d69-4f6c-4d70-8e19-a12c71617501');\n",
              "        const dataTable =\n",
              "          await google.colab.kernel.invokeFunction('convertToInteractive',\n",
              "                                                    [key], {});\n",
              "        if (!dataTable) return;\n",
              "\n",
              "        const docLinkHtml = 'Like what you see? Visit the ' +\n",
              "          '<a target=\"_blank\" href=https://colab.research.google.com/notebooks/data_table.ipynb>data table notebook</a>'\n",
              "          + ' to learn more about interactive tables.';\n",
              "        element.innerHTML = '';\n",
              "        dataTable['output_type'] = 'display_data';\n",
              "        await google.colab.output.renderOutput(dataTable, element);\n",
              "        const docLink = document.createElement('div');\n",
              "        docLink.innerHTML = docLinkHtml;\n",
              "        element.appendChild(docLink);\n",
              "      }\n",
              "    </script>\n",
              "  </div>\n",
              "\n",
              "\n",
              "<div id=\"df-c7190814-9a90-46a7-a01d-f5d8f485fe8b\">\n",
              "  <button class=\"colab-df-quickchart\" onclick=\"quickchart('df-c7190814-9a90-46a7-a01d-f5d8f485fe8b')\"\n",
              "            title=\"Suggest charts\"\n",
              "            style=\"display:none;\">\n",
              "\n",
              "<svg xmlns=\"http://www.w3.org/2000/svg\" height=\"24px\"viewBox=\"0 0 24 24\"\n",
              "     width=\"24px\">\n",
              "    <g>\n",
              "        <path d=\"M19 3H5c-1.1 0-2 .9-2 2v14c0 1.1.9 2 2 2h14c1.1 0 2-.9 2-2V5c0-1.1-.9-2-2-2zM9 17H7v-7h2v7zm4 0h-2V7h2v10zm4 0h-2v-4h2v4z\"/>\n",
              "    </g>\n",
              "</svg>\n",
              "  </button>\n",
              "\n",
              "<style>\n",
              "  .colab-df-quickchart {\n",
              "      --bg-color: #E8F0FE;\n",
              "      --fill-color: #1967D2;\n",
              "      --hover-bg-color: #E2EBFA;\n",
              "      --hover-fill-color: #174EA6;\n",
              "      --disabled-fill-color: #AAA;\n",
              "      --disabled-bg-color: #DDD;\n",
              "  }\n",
              "\n",
              "  [theme=dark] .colab-df-quickchart {\n",
              "      --bg-color: #3B4455;\n",
              "      --fill-color: #D2E3FC;\n",
              "      --hover-bg-color: #434B5C;\n",
              "      --hover-fill-color: #FFFFFF;\n",
              "      --disabled-bg-color: #3B4455;\n",
              "      --disabled-fill-color: #666;\n",
              "  }\n",
              "\n",
              "  .colab-df-quickchart {\n",
              "    background-color: var(--bg-color);\n",
              "    border: none;\n",
              "    border-radius: 50%;\n",
              "    cursor: pointer;\n",
              "    display: none;\n",
              "    fill: var(--fill-color);\n",
              "    height: 32px;\n",
              "    padding: 0;\n",
              "    width: 32px;\n",
              "  }\n",
              "\n",
              "  .colab-df-quickchart:hover {\n",
              "    background-color: var(--hover-bg-color);\n",
              "    box-shadow: 0 1px 2px rgba(60, 64, 67, 0.3), 0 1px 3px 1px rgba(60, 64, 67, 0.15);\n",
              "    fill: var(--button-hover-fill-color);\n",
              "  }\n",
              "\n",
              "  .colab-df-quickchart-complete:disabled,\n",
              "  .colab-df-quickchart-complete:disabled:hover {\n",
              "    background-color: var(--disabled-bg-color);\n",
              "    fill: var(--disabled-fill-color);\n",
              "    box-shadow: none;\n",
              "  }\n",
              "\n",
              "  .colab-df-spinner {\n",
              "    border: 2px solid var(--fill-color);\n",
              "    border-color: transparent;\n",
              "    border-bottom-color: var(--fill-color);\n",
              "    animation:\n",
              "      spin 1s steps(1) infinite;\n",
              "  }\n",
              "\n",
              "  @keyframes spin {\n",
              "    0% {\n",
              "      border-color: transparent;\n",
              "      border-bottom-color: var(--fill-color);\n",
              "      border-left-color: var(--fill-color);\n",
              "    }\n",
              "    20% {\n",
              "      border-color: transparent;\n",
              "      border-left-color: var(--fill-color);\n",
              "      border-top-color: var(--fill-color);\n",
              "    }\n",
              "    30% {\n",
              "      border-color: transparent;\n",
              "      border-left-color: var(--fill-color);\n",
              "      border-top-color: var(--fill-color);\n",
              "      border-right-color: var(--fill-color);\n",
              "    }\n",
              "    40% {\n",
              "      border-color: transparent;\n",
              "      border-right-color: var(--fill-color);\n",
              "      border-top-color: var(--fill-color);\n",
              "    }\n",
              "    60% {\n",
              "      border-color: transparent;\n",
              "      border-right-color: var(--fill-color);\n",
              "    }\n",
              "    80% {\n",
              "      border-color: transparent;\n",
              "      border-right-color: var(--fill-color);\n",
              "      border-bottom-color: var(--fill-color);\n",
              "    }\n",
              "    90% {\n",
              "      border-color: transparent;\n",
              "      border-bottom-color: var(--fill-color);\n",
              "    }\n",
              "  }\n",
              "</style>\n",
              "\n",
              "  <script>\n",
              "    async function quickchart(key) {\n",
              "      const quickchartButtonEl =\n",
              "        document.querySelector('#' + key + ' button');\n",
              "      quickchartButtonEl.disabled = true;  // To prevent multiple clicks.\n",
              "      quickchartButtonEl.classList.add('colab-df-spinner');\n",
              "      try {\n",
              "        const charts = await google.colab.kernel.invokeFunction(\n",
              "            'suggestCharts', [key], {});\n",
              "      } catch (error) {\n",
              "        console.error('Error during call to suggestCharts:', error);\n",
              "      }\n",
              "      quickchartButtonEl.classList.remove('colab-df-spinner');\n",
              "      quickchartButtonEl.classList.add('colab-df-quickchart-complete');\n",
              "    }\n",
              "    (() => {\n",
              "      let quickchartButtonEl =\n",
              "        document.querySelector('#df-c7190814-9a90-46a7-a01d-f5d8f485fe8b button');\n",
              "      quickchartButtonEl.style.display =\n",
              "        google.colab.kernel.accessAllowed ? 'block' : 'none';\n",
              "    })();\n",
              "  </script>\n",
              "</div>\n",
              "\n",
              "    </div>\n",
              "  </div>\n"
            ]
          },
          "metadata": {},
          "execution_count": 47
        }
      ],
      "source": [
        "# tổ chức lại dữ liệu đặt tên cho cột\n",
        "columns_name = ['userId', 'movieId','rating', 'timestamp']\n",
        "rating_df = pd.read_csv(rating_path, sep='\\t', header=None, names=columns_name)\n",
        "print(rating_df.head())\n",
        "\n",
        "print(len(rating_df['movieId'].unique()))\n",
        "print(len(rating_df['userId'].unique()))\n",
        "\n",
        "rating_df.describe()\n"
      ],
      "id": "5248f04b"
    },
    {
      "cell_type": "code",
      "execution_count": null,
      "metadata": {
        "id": "lF85p5stY0Lr"
      },
      "outputs": [],
      "source": [
        "# Để tránh ID users và movies vượt quá unique count\n",
        "# Encoder rồi fit_transform đưa các gtri về đoạn [0, unique_count-1] phù hợp với khuôn khổ ma trận\n",
        "# range of [0, unique_count]\n",
        "lbl_user = preprocessing.LabelEncoder()\n",
        "lbl_movie = preprocessing.LabelEncoder()\n",
        "\n",
        "rating_df.userId = lbl_user.fit_transform(rating_df.userId.values)\n",
        "rating_df.movieId = lbl_movie.fit_transform(rating_df.movieId.values)"
      ],
      "id": "lF85p5stY0Lr"
    },
    {
      "cell_type": "code",
      "execution_count": null,
      "metadata": {
        "id": "5527b80b",
        "colab": {
          "base_uri": "https://localhost:8080/"
        },
        "outputId": "46c69579-1ef5-465d-8cd4-29e93bc4648e"
      },
      "outputs": [
        {
          "output_type": "stream",
          "name": "stdout",
          "text": [
            "942\n",
            "1681\n"
          ]
        }
      ],
      "source": [
        "print(rating_df.userId.max())\n",
        "print(rating_df.movieId.max())"
      ],
      "id": "5527b80b"
    },
    {
      "cell_type": "code",
      "execution_count": null,
      "metadata": {
        "id": "ea7018cc",
        "colab": {
          "base_uri": "https://localhost:8080/"
        },
        "outputId": "7a64db92-5dcb-477e-a5a9-387da8e508c4"
      },
      "outputs": [
        {
          "output_type": "execute_result",
          "data": {
            "text/plain": [
              "4    34174\n",
              "3    27145\n",
              "5    21201\n",
              "2    11370\n",
              "1     6110\n",
              "Name: rating, dtype: int64"
            ]
          },
          "metadata": {},
          "execution_count": 50
        }
      ],
      "source": [
        "rating_df.rating.value_counts()"
      ],
      "id": "ea7018cc"
    },
    {
      "cell_type": "code",
      "execution_count": null,
      "metadata": {
        "id": "a1e6b7e5"
      },
      "outputs": [],
      "source": [
        "# tạo cạnh giữa users và movies\n",
        "def load_edge_csv(df,\n",
        "                  src_index_col,\n",
        "                  dst_index_col,\n",
        "                  link_index_col,\n",
        "                  rating_threshold):\n",
        "\n",
        "    edge_index = None\n",
        "\n",
        "    src = [user_id for user_id in  df['userId']]\n",
        "    dst = [(movie_id) for movie_id in df['movieId']]\n",
        "\n",
        "    #tạo tensor 1 chiều giá trị {0,1} với ngưỡng đánh giá\n",
        "    edge_attr = torch.from_numpy(df[link_index_col].values).view(-1, 1).to(torch.long) >= rating_threshold\n",
        "\n",
        "    # Xây dựng định dạng COO cho edge_index từ rating (Coordinate)\n",
        "    # tạo list chứa 2 list rỗng\n",
        "    edge_index = [[], []]\n",
        "    for i in range(edge_attr.shape[0]):\n",
        "        if edge_attr[i]:\n",
        "            edge_index[0].append(src[i])\n",
        "            edge_index[1].append(dst[i])\n",
        "    return edge_index"
      ],
      "id": "a1e6b7e5"
    },
    {
      "cell_type": "code",
      "execution_count": null,
      "metadata": {
        "id": "49a1fc26",
        "colab": {
          "base_uri": "https://localhost:8080/"
        },
        "outputId": "ba49fbeb-b6f6-42f6-ce28-0afc4546d111"
      },
      "outputs": [
        {
          "output_type": "stream",
          "name": "stdout",
          "text": [
            "2 x 55375\n"
          ]
        }
      ],
      "source": [
        "edge_index = load_edge_csv(\n",
        "    rating_df,\n",
        "    src_index_col='userId',\n",
        "    dst_index_col='movieId',\n",
        "    link_index_col='rating',\n",
        "    rating_threshold=4,\n",
        ")\n",
        "\n",
        "print(f\"{len(edge_index)} x {len(edge_index[0])}\")"
      ],
      "id": "49a1fc26"
    },
    {
      "cell_type": "code",
      "execution_count": null,
      "metadata": {
        "id": "fc37da10",
        "colab": {
          "base_uri": "https://localhost:8080/"
        },
        "outputId": "df4cec25-e796-4603-e9c0-d7f7629ffe32"
      },
      "outputs": [
        {
          "output_type": "stream",
          "name": "stdout",
          "text": [
            "tensor([[ 297,  252,  285,  ...,  805,  675,  715],\n",
            "        [ 473,  464, 1013,  ...,  420,  537,  203]])\n",
            "torch.Size([2, 55375])\n"
          ]
        }
      ],
      "source": [
        "# Chuyển đổi sang tensor\n",
        "# Chúng ta sd LongTensor hoặc SparseTensor vì cần cho method .propagate()\n",
        "edge_index = torch.LongTensor(edge_index)\n",
        "print(edge_index)\n",
        "print(edge_index.size())"
      ],
      "id": "fc37da10"
    },
    {
      "cell_type": "code",
      "execution_count": null,
      "metadata": {
        "id": "8c38603a"
      },
      "outputs": [],
      "source": [
        "# tổng users và movies\n",
        "num_users = len(rating_df['userId'].unique())\n",
        "num_movies = len(rating_df['movieId'].unique())"
      ],
      "id": "8c38603a"
    },
    {
      "cell_type": "code",
      "execution_count": null,
      "metadata": {
        "id": "b4e70928"
      },
      "outputs": [],
      "source": [
        "num_interactions = edge_index.shape[1]\n",
        "\n",
        "# Chia cạnh đồ thị theo tỉ lệ train/val/test 80/10/10\n",
        "all_indices = [i for i in range(num_interactions)]\n",
        "\n",
        "train_indices, test_indice = train_test_split(all_indices,\n",
        "                                               test_size=0.2,\n",
        "                                               random_state=1)\n",
        "\n",
        "val_indices, test_indices = train_test_split(test_indice,\n",
        "                                             test_size=0.5,\n",
        "                                             random_state=1)\n",
        "\n",
        "train_edge_index = edge_index[:, train_indices]\n",
        "val_edge_index = edge_index[:, val_indices]\n",
        "test_edge_index = edge_index[:, test_indices]"
      ],
      "id": "b4e70928"
    },
    {
      "cell_type": "code",
      "execution_count": null,
      "metadata": {
        "id": "ffc7e5e8",
        "colab": {
          "base_uri": "https://localhost:8080/"
        },
        "outputId": "9773faf8-acdc-4d43-8ad4-e845abbe6d1e"
      },
      "outputs": [
        {
          "output_type": "stream",
          "name": "stdout",
          "text": [
            "num_users 943, num_movies 1682, num_interactions 55375\n",
            "train_edge_index tensor([[412, 312, 591,  ...,  40, 377, 863],\n",
            "        [299, 518, 432,  ...,  97, 175,  49]])\n",
            "2625\n",
            "torch.Size([942])\n",
            "torch.Size([1416])\n"
          ]
        }
      ],
      "source": [
        "print(f\"num_users {num_users}, num_movies {num_movies}, num_interactions {num_interactions}\")\n",
        "print(f\"train_edge_index {train_edge_index}\")\n",
        "print((num_users + num_movies))\n",
        "print(torch.unique(train_edge_index[0]).size())\n",
        "print(torch.unique(train_edge_index[1]).size())"
      ],
      "id": "ffc7e5e8"
    },
    {
      "cell_type": "code",
      "execution_count": null,
      "metadata": {
        "id": "e5daf702"
      },
      "outputs": [],
      "source": [
        "# chuyển đổi từ ma trận tương tác thành ma trận kề\n",
        "def convert_r_mat_edge_index_to_adj_mat_edge_index(input_edge_index):\n",
        "    R = torch.zeros((num_users, num_movies))\n",
        "    for i in range(len(input_edge_index[0])):\n",
        "        row_idx = input_edge_index[0][i]\n",
        "        col_idx = input_edge_index[1][i]\n",
        "        R[row_idx][col_idx] = 1\n",
        "\n",
        "    R_transpose = torch.transpose(R, 0, 1)\n",
        "    adj_mat = torch.zeros((num_users + num_movies , num_users + num_movies))\n",
        "    adj_mat[: num_users, num_users :] = R.clone()\n",
        "    adj_mat[num_users :, : num_users] = R_transpose.clone()\n",
        "    adj_mat_coo = adj_mat.to_sparse_coo()\n",
        "    adj_mat_coo = adj_mat_coo.indices()\n",
        "    return adj_mat_coo"
      ],
      "id": "e5daf702"
    },
    {
      "cell_type": "code",
      "execution_count": null,
      "metadata": {
        "id": "005195ba"
      },
      "outputs": [],
      "source": [
        "# chuyển đổi từ ma trận lề sang ma trận tương tác\n",
        "def convert_adj_mat_edge_index_to_r_mat_edge_index(input_edge_index):\n",
        "    sparse_input_edge_index = SparseTensor(row=input_edge_index[0],\n",
        "                                           col=input_edge_index[1],\n",
        "                                           sparse_sizes=((num_users + num_movies), (num_users + num_movies)))\n",
        "    adj_mat = sparse_input_edge_index.to_dense()\n",
        "    interact_mat = adj_mat[: num_users, num_users :]\n",
        "    r_mat_edge_index = interact_mat.to_sparse_coo().indices()\n",
        "    return r_mat_edge_index"
      ],
      "id": "005195ba"
    },
    {
      "cell_type": "code",
      "execution_count": null,
      "metadata": {
        "id": "f6e41ca6"
      },
      "outputs": [],
      "source": [
        "# chuyển đổi ma trận tương tác sang ma trận kề ()\n",
        "# số chiều thay đổi MxN => (M+N)x(M+N)\n",
        "# convert interaction matrix to adjescency matrix\n",
        "train_edge_index = convert_r_mat_edge_index_to_adj_mat_edge_index(train_edge_index)\n",
        "val_edge_index = convert_r_mat_edge_index_to_adj_mat_edge_index(val_edge_index)\n",
        "test_edge_index = convert_r_mat_edge_index_to_adj_mat_edge_index(test_edge_index)"
      ],
      "id": "f6e41ca6"
    },
    {
      "cell_type": "code",
      "execution_count": null,
      "metadata": {
        "id": "9ced999a",
        "colab": {
          "base_uri": "https://localhost:8080/"
        },
        "outputId": "0d0d0af2-7ad0-46c6-c334-2f92cd81966d"
      },
      "outputs": [
        {
          "output_type": "stream",
          "name": "stdout",
          "text": [
            "tensor([[   0,    0,    0,  ..., 2606, 2606, 2616],\n",
            "        [ 943,  945,  951,  ...,  869,  879,  839]])\n",
            "torch.Size([2, 88600])\n",
            "tensor([[   0,    0,    0,  ..., 2554, 2557, 2565],\n",
            "        [ 948,  949,  970,  ...,  488,  806,  654]])\n",
            "torch.Size([2, 11074])\n",
            "tensor([[   0,    0,    0,  ..., 2534, 2562, 2581],\n",
            "        [ 986,  999, 1000,  ...,  518,  549,  654]])\n",
            "torch.Size([2, 11076])\n"
          ]
        }
      ],
      "source": [
        "print(train_edge_index)\n",
        "print(train_edge_index.size())\n",
        "print(val_edge_index)\n",
        "print(val_edge_index.size())\n",
        "print(test_edge_index)\n",
        "print(test_edge_index.size())"
      ],
      "id": "9ced999a"
    },
    {
      "cell_type": "code",
      "execution_count": null,
      "metadata": {
        "id": "d8a112c1"
      },
      "outputs": [],
      "source": [
        "# lấy một minibatch ngẫu nhiên từ dữ liệu\n",
        "def sample_mini_batch(batch_size, edge_index):\n",
        "    edges = structured_negative_sampling(edge_index)\n",
        "\n",
        "    edges = torch.stack(edges, dim=0)\n",
        "\n",
        "    indices = random.choices([i for i in range(edges[0].shape[0])], k=batch_size)\n",
        "\n",
        "    batch = edges[:, indices]\n",
        "\n",
        "    user_indices, pos_item_indices, neg_item_indices = batch[0], batch[1], batch[2]\n",
        "    return user_indices, pos_item_indices, neg_item_indices"
      ],
      "id": "d8a112c1"
    },
    {
      "cell_type": "code",
      "execution_count": null,
      "metadata": {
        "id": "9e8cbb67"
      },
      "outputs": [],
      "source": [
        "# defines LightGCN model\n",
        "class LightGCN(MessagePassing):\n",
        "\n",
        "    def __init__(self, num_users,\n",
        "                 num_items,\n",
        "                 embedding_dim=64, # độ dài vector nhúng mỗi nút\n",
        "                 K=3,\n",
        "                 add_self_loops=False):\n",
        "\n",
        "        super().__init__()\n",
        "        self.num_users = num_users\n",
        "        self.num_items = num_items\n",
        "        self.embedding_dim = embedding_dim\n",
        "        self.K = K\n",
        "        self.add_self_loops = add_self_loops\n",
        "\n",
        "        # nhúng lần đầu và khởi tạo trọng số cho layer 0\n",
        "        self.users_emb = nn.Embedding(num_embeddings=self.num_users, embedding_dim=self.embedding_dim) # e_u^0\n",
        "\n",
        "        self.items_emb = nn.Embedding(num_embeddings=self.num_items, embedding_dim=self.embedding_dim) # e_i^0\n",
        "        nn.init.normal_(self.users_emb.weight, std=0.1)\n",
        "        nn.init.normal_(self.items_emb.weight, std=0.1)\n",
        "\n",
        "    def forward(self, edge_index: Tensor):\n",
        "        # chuẩn hóa các giá trị dựa trên công thức dùng ma trận chuẩn hóa đối xứng\n",
        "        edge_index_norm = gcn_norm(edge_index=edge_index,\n",
        "                                   add_self_loops=self.add_self_loops)\n",
        "        # ghép nối, kích thước (n_users + n_items) * 64\n",
        "        emb_0 = torch.cat([self.users_emb.weight, self.items_emb.weight]) # E^0\n",
        "\n",
        "        embs = [emb_0]\n",
        "        emb_k = emb_0\n",
        "        # thực hiện lan truyên qua K layer của mô hình\n",
        "        for i in range(self.K):\n",
        "            emb_k = self.propagate(edge_index=edge_index_norm[0], x=emb_k, norm=edge_index_norm[1])\n",
        "            embs.append(emb_k)\n",
        "\n",
        "        embs = torch.stack(embs, dim=1)\n",
        "\n",
        "        # tính trung bình để tạo ra embedding cuối cùng (siêu tham số 1/K+1 )\n",
        "        emb_final = torch.mean(embs, dim=1) # E^K\n",
        "\n",
        "        users_emb_final, items_emb_final = torch.split(emb_final, [self.num_users, self.num_items])\n",
        "\n",
        "        return users_emb_final, self.users_emb.weight, items_emb_final, self.items_emb.weight\n",
        "    # nhận thông điệp từ các nút láng giềng\n",
        "    def message(self, x_j, norm):\n",
        "        return norm.view(-1, 1) * x_j\n",
        "\n",
        "layers = 4\n",
        "model = LightGCN(num_users=num_users,\n",
        "                 num_items=num_movies,\n",
        "                 K=layers)"
      ],
      "id": "9e8cbb67"
    },
    {
      "cell_type": "code",
      "execution_count": null,
      "metadata": {
        "id": "cee24091"
      },
      "outputs": [],
      "source": [
        "def bpr_loss(users_emb_final,\n",
        "             users_emb_0,\n",
        "             pos_items_emb_final,\n",
        "             pos_items_emb_0,\n",
        "             neg_items_emb_final,\n",
        "             neg_items_emb_0,\n",
        "             lambda_val):\n",
        "\n",
        "    reg_loss = lambda_val * (users_emb_0.norm(2).pow(2) +\n",
        "                             pos_items_emb_0.norm(2).pow(2) +\n",
        "                             neg_items_emb_0.norm(2).pow(2)) # hàm mất mát L2\n",
        "\n",
        "    pos_scores = torch.mul(users_emb_final, pos_items_emb_final)\n",
        "    pos_scores = torch.sum(pos_scores, dim=-1) # dự đoán mẫu dương\n",
        "    neg_scores = torch.mul(users_emb_final, neg_items_emb_final)\n",
        "    neg_scores = torch.sum(neg_scores, dim=-1) # dự đoán mẫu âm\n",
        "\n",
        "\n",
        "    bpr_loss = -torch.mean(torch.nn.functional.softplus(pos_scores - neg_scores))\n",
        "\n",
        "    loss = bpr_loss + reg_loss\n",
        "\n",
        "    return loss"
      ],
      "id": "cee24091"
    },
    {
      "cell_type": "code",
      "execution_count": null,
      "metadata": {
        "id": "4a6dc66e"
      },
      "outputs": [],
      "source": [
        "# sinh ra list pos item của user\n",
        "def get_user_positive_items(edge_index):\n",
        "\n",
        "    # key: user_id, val: item_id list\n",
        "    user_pos_items = {}\n",
        "\n",
        "    for i in range(edge_index.shape[1]):\n",
        "        user = edge_index[0][i].item()\n",
        "        item = edge_index[1][i].item()\n",
        "\n",
        "        if user not in user_pos_items:\n",
        "            user_pos_items[user] = []\n",
        "\n",
        "        user_pos_items[user].append(item)\n",
        "\n",
        "    return user_pos_items"
      ],
      "id": "4a6dc66e"
    },
    {
      "cell_type": "code",
      "execution_count": null,
      "metadata": {
        "id": "ace2aa34"
      },
      "outputs": [],
      "source": [
        "# tính recall@K và precision@K\n",
        "def RecallPrecision_ATk(groundTruth, r, k):\n",
        "\n",
        "    num_correct_pred = torch.sum(r, dim=-1)\n",
        "\n",
        "    user_num_liked = torch.Tensor([len(groundTruth[i]) for i in range(len(groundTruth))])\n",
        "\n",
        "    recall = torch.mean(num_correct_pred / user_num_liked)\n",
        "    precision = torch.mean(num_correct_pred / k)\n",
        "    return recall.item(), precision.item()"
      ],
      "id": "ace2aa34"
    },
    {
      "cell_type": "code",
      "execution_count": null,
      "metadata": {
        "id": "fa475ca5"
      },
      "outputs": [],
      "source": [
        "# tính NDCG@K\n",
        "def NDCGatK_r(groundTruth, r, k):\n",
        "\n",
        "    assert len(r) == len(groundTruth)\n",
        "\n",
        "    test_matrix = torch.zeros((len(r), k))\n",
        "\n",
        "    for i, items in enumerate(groundTruth):\n",
        "        length = min(len(items), k)\n",
        "        test_matrix[i, :length] = 1\n",
        "    max_r = test_matrix\n",
        "    idcg = torch.sum(max_r * 1. / torch.log2(torch.arange(2, k + 2)), axis=1)\n",
        "    dcg = r * (1. / torch.log2(torch.arange(2, k + 2)))\n",
        "    dcg = torch.sum(dcg, axis=1)\n",
        "    idcg[idcg == 0.] = 1.\n",
        "    ndcg = dcg / idcg\n",
        "    ndcg[torch.isnan(ndcg)] = 0.\n",
        "    return torch.mean(ndcg).item()"
      ],
      "id": "fa475ca5"
    },
    {
      "cell_type": "code",
      "execution_count": null,
      "metadata": {
        "id": "fe2d3e12"
      },
      "outputs": [],
      "source": [
        "def get_metrics(model,\n",
        "                input_edge_index,\n",
        "                input_exclude_edge_indices,\n",
        "                k):\n",
        "\n",
        "    user_embedding = model.users_emb.weight\n",
        "    item_embedding = model.items_emb.weight\n",
        "\n",
        "    edge_index = convert_adj_mat_edge_index_to_r_mat_edge_index(input_edge_index)\n",
        "\n",
        "    exclude_edge_indices = [convert_adj_mat_edge_index_to_r_mat_edge_index(exclude_edge_index) \\\n",
        "                                      for exclude_edge_index in input_exclude_edge_indices]\n",
        "\n",
        "    r_mat_rating = torch.matmul(user_embedding, item_embedding.T)\n",
        "\n",
        "    rating = r_mat_rating\n",
        "\n",
        "    for exclude_edge_index in exclude_edge_indices:\n",
        "        user_pos_items = get_user_positive_items(exclude_edge_index)\n",
        "        exclude_users = []\n",
        "        exclude_items = []\n",
        "        for user, items in user_pos_items.items():\n",
        "            exclude_users.extend([user] * len(items))\n",
        "            exclude_items.extend(items)\n",
        "\n",
        "        rating[exclude_users, exclude_items] = -(1 << 10)\n",
        "\n",
        "    _, top_K_items = torch.topk(rating, k=k)\n",
        "\n",
        "    users = edge_index[0].unique()\n",
        "\n",
        "    test_user_pos_items = get_user_positive_items(edge_index)\n",
        "    test_user_pos_items_list = [test_user_pos_items[user.item()] for user in users]\n",
        "\n",
        "    r = []\n",
        "    for user in users:\n",
        "        user_true_relevant_item = test_user_pos_items[user.item()]\n",
        "        label = list(map(lambda x: x in user_true_relevant_item, top_K_items[user]))\n",
        "        r.append(label)\n",
        "\n",
        "    r = torch.Tensor(np.array(r).astype('float'))\n",
        "\n",
        "    recall, precision = RecallPrecision_ATk(test_user_pos_items_list, r, k)\n",
        "    ndcg = NDCGatK_r(test_user_pos_items_list, r, k)\n",
        "\n",
        "    return recall, precision, ndcg"
      ],
      "id": "fe2d3e12"
    },
    {
      "cell_type": "code",
      "execution_count": null,
      "metadata": {
        "id": "b69b4158"
      },
      "outputs": [],
      "source": [
        "def evaluation(model,\n",
        "               edge_index,\n",
        "               exclude_edge_indices,\n",
        "               k,\n",
        "               lambda_val\n",
        "              ):\n",
        "\n",
        "    # nhúng\n",
        "    users_emb_final, users_emb_0, items_emb_final, items_emb_0 = model.forward(edge_index)\n",
        "\n",
        "    r_mat_edge_index = convert_adj_mat_edge_index_to_r_mat_edge_index(edge_index)\n",
        "\n",
        "    edges = structured_negative_sampling(r_mat_edge_index, contains_neg_self_loops=False)\n",
        "\n",
        "    user_indices, pos_item_indices, neg_item_indices = edges[0], edges[1], edges[2]\n",
        "\n",
        "    users_emb_final, users_emb_0 = users_emb_final[user_indices], users_emb_0[user_indices]\n",
        "\n",
        "    pos_items_emb_final, pos_items_emb_0 = items_emb_final[pos_item_indices], items_emb_0[pos_item_indices]\n",
        "\n",
        "    neg_items_emb_final, neg_items_emb_0 = items_emb_final[neg_item_indices], items_emb_0[neg_item_indices]\n",
        "\n",
        "    loss = bpr_loss(users_emb_final,\n",
        "                    users_emb_0,\n",
        "                    pos_items_emb_final,\n",
        "                    pos_items_emb_0,\n",
        "                    neg_items_emb_final,\n",
        "                    neg_items_emb_0,\n",
        "                    lambda_val).item()\n",
        "\n",
        "\n",
        "    recall, precision, ndcg = get_metrics(model,\n",
        "                                          edge_index,\n",
        "                                          exclude_edge_indices,\n",
        "                                          k)\n",
        "\n",
        "    return loss, recall, precision, ndcg"
      ],
      "id": "b69b4158"
    },
    {
      "cell_type": "code",
      "execution_count": null,
      "metadata": {
        "id": "c4cee1b8"
      },
      "outputs": [],
      "source": [
        "ITERATIONS = 10000\n",
        "EPOCHS = 10\n",
        "BATCH_SIZE = 1024\n",
        "LR = 1e-3\n",
        "ITERS_PER_EVAL = 200\n",
        "ITERS_PER_LR_DECAY = 200\n",
        "K = 20\n",
        "LAMBDA = 1e-6"
      ],
      "id": "c4cee1b8"
    },
    {
      "cell_type": "code",
      "execution_count": null,
      "metadata": {
        "id": "1d3b2d75",
        "colab": {
          "base_uri": "https://localhost:8080/"
        },
        "outputId": "b04b26c2-a0f6-49dc-edb4-39c43eb3e4b7"
      },
      "outputs": [
        {
          "output_type": "stream",
          "name": "stdout",
          "text": [
            "Using device cuda.\n"
          ]
        }
      ],
      "source": [
        "# setup\n",
        "\n",
        "device = torch.device('cuda' if torch.cuda.is_available() else 'cpu')\n",
        "print(f\"Using device {device}.\")\n",
        "\n",
        "\n",
        "model = model.to(device)\n",
        "model.train()\n",
        "\n",
        "optimizer = optim.Adam(model.parameters(), lr=LR)\n",
        "scheduler = optim.lr_scheduler.ExponentialLR(optimizer, gamma=0.95)\n",
        "\n",
        "edge_index = edge_index.to(device)\n",
        "train_edge_index = train_edge_index.to(device)\n",
        "val_edge_index = val_edge_index.to(device)"
      ],
      "id": "1d3b2d75"
    },
    {
      "cell_type": "code",
      "execution_count": null,
      "metadata": {
        "id": "_kQO8iEyZkNJ",
        "colab": {
          "base_uri": "https://localhost:8080/"
        },
        "outputId": "47404906-1257-4ad6-c980-17b22138dd08"
      },
      "outputs": [
        {
          "output_type": "stream",
          "name": "stdout",
          "text": [
            "PyTorch version: 2.1.0+cu121\n",
            "CUDA available: True\n",
            "CUDA version: 12.1\n"
          ]
        }
      ],
      "source": [
        "print(f\"PyTorch version: {torch.__version__}\")\n",
        "print(f\"CUDA available: {torch.cuda.is_available()}\")\n",
        "print(f\"CUDA version: {torch.version.cuda}\")"
      ],
      "id": "_kQO8iEyZkNJ"
    },
    {
      "cell_type": "code",
      "execution_count": null,
      "metadata": {
        "id": "371bdb47"
      },
      "outputs": [],
      "source": [
        "def get_embs_for_bpr(model, input_edge_index):\n",
        "    users_emb_final, users_emb_0, items_emb_final, items_emb_0 = model.forward(input_edge_index)\n",
        "\n",
        "\n",
        "    edge_index_to_use = convert_adj_mat_edge_index_to_r_mat_edge_index(input_edge_index)\n",
        "\n",
        "    user_indices, pos_item_indices, neg_item_indices = sample_mini_batch(BATCH_SIZE, edge_index_to_use)\n",
        "\n",
        "    user_indices, pos_item_indices, neg_item_indices = user_indices.to(device), pos_item_indices.to(device), neg_item_indices.to(device)\n",
        "\n",
        "    users_emb_final, users_emb_0 = users_emb_final[user_indices], users_emb_0[user_indices]\n",
        "    pos_items_emb_final, pos_items_emb_0 = items_emb_final[pos_item_indices], items_emb_0[pos_item_indices]\n",
        "    neg_items_emb_final, neg_items_emb_0 = items_emb_final[neg_item_indices], items_emb_0[neg_item_indices]\n",
        "\n",
        "    return users_emb_final, users_emb_0, pos_items_emb_final, pos_items_emb_0, neg_items_emb_final, neg_items_emb_0"
      ],
      "id": "371bdb47"
    },
    {
      "cell_type": "code",
      "execution_count": null,
      "metadata": {
        "colab": {
          "base_uri": "https://localhost:8080/",
          "height": 917,
          "referenced_widgets": [
            "a9d1fcae101743719a44624e38135629",
            "e9089a5b38fe47f880a8884e4ef83f09",
            "aa5dc329855e47f7b689e9b930d36135",
            "c9e2e63c41b14dbcb8f1f1c395372d6f",
            "8121d34534d64798a65a2352d764bbbd",
            "099c6fd470a14040a67f48e93787f7b3",
            "d22b9194aa4d4ff8be18d23c331529b7",
            "1077fb4962df46fcad33bf564f19f4f9",
            "1f025a2a24984a92a801512d65644c1a",
            "a26a860fc0bf404db3bab825e6c5b15b",
            "b7ff3ee025db46a49ee1d41722a6e0f9"
          ]
        },
        "id": "5b7f792e",
        "outputId": "97643455-3b13-45b7-b993-89082905de64"
      },
      "outputs": [
        {
          "output_type": "display_data",
          "data": {
            "text/plain": [
              "  0%|          | 0/10000 [00:00<?, ?it/s]"
            ],
            "application/vnd.jupyter.widget-view+json": {
              "version_major": 2,
              "version_minor": 0,
              "model_id": "a9d1fcae101743719a44624e38135629"
            }
          },
          "metadata": {}
        },
        {
          "output_type": "stream",
          "name": "stdout",
          "text": [
            "[Iteration 0/10000] train_loss: -0.69197, val_loss: -0.68913, val_recall@20: 0.01048, val_precision@20: 0.00343, val_ndcg@20: 0.00629\n",
            "[Iteration 200/10000] train_loss: -5.0584, val_loss: -4.78262, val_recall@20: 0.07297, val_precision@20: 0.02488, val_ndcg@20: 0.04607\n",
            "[Iteration 400/10000] train_loss: -20.21819, val_loss: -18.97577, val_recall@20: 0.08515, val_precision@20: 0.02901, val_ndcg@20: 0.05251\n",
            "[Iteration 600/10000] train_loss: -43.45503, val_loss: -39.56901, val_recall@20: 0.09525, val_precision@20: 0.0314, val_ndcg@20: 0.05706\n",
            "[Iteration 800/10000] train_loss: -69.00095, val_loss: -66.2369, val_recall@20: 0.09834, val_precision@20: 0.03256, val_ndcg@20: 0.05931\n",
            "[Iteration 1000/10000] train_loss: -100.54512, val_loss: -95.47134, val_recall@20: 0.10909, val_precision@20: 0.03535, val_ndcg@20: 0.06484\n",
            "[Iteration 1200/10000] train_loss: -136.07549, val_loss: -126.07197, val_recall@20: 0.11632, val_precision@20: 0.03843, val_ndcg@20: 0.07\n",
            "[Iteration 1400/10000] train_loss: -173.52272, val_loss: -160.4407, val_recall@20: 0.11221, val_precision@20: 0.03831, val_ndcg@20: 0.06986\n",
            "[Iteration 1600/10000] train_loss: -206.69113, val_loss: -197.52457, val_recall@20: 0.12254, val_precision@20: 0.03983, val_ndcg@20: 0.07512\n",
            "[Iteration 1800/10000] train_loss: -246.7357, val_loss: -236.40892, val_recall@20: 0.12393, val_precision@20: 0.03994, val_ndcg@20: 0.07431\n",
            "[Iteration 2000/10000] train_loss: -296.45294, val_loss: -269.57108, val_recall@20: 0.11896, val_precision@20: 0.03977, val_ndcg@20: 0.07461\n",
            "[Iteration 2200/10000] train_loss: -330.9364, val_loss: -308.5484, val_recall@20: 0.11938, val_precision@20: 0.04, val_ndcg@20: 0.07621\n",
            "[Iteration 2400/10000] train_loss: -366.24323, val_loss: -335.42542, val_recall@20: 0.12181, val_precision@20: 0.04105, val_ndcg@20: 0.07813\n",
            "[Iteration 2600/10000] train_loss: -386.06708, val_loss: -378.15875, val_recall@20: 0.12713, val_precision@20: 0.04238, val_ndcg@20: 0.07929\n",
            "[Iteration 2800/10000] train_loss: -409.5889, val_loss: -413.92902, val_recall@20: 0.1261, val_precision@20: 0.04203, val_ndcg@20: 0.07984\n",
            "[Iteration 3000/10000] train_loss: -455.93262, val_loss: -445.44843, val_recall@20: 0.12914, val_precision@20: 0.04267, val_ndcg@20: 0.08339\n",
            "[Iteration 3200/10000] train_loss: -477.71329, val_loss: -483.26437, val_recall@20: 0.12828, val_precision@20: 0.04285, val_ndcg@20: 0.08412\n",
            "[Iteration 3400/10000] train_loss: -556.8714, val_loss: -505.29959, val_recall@20: 0.13059, val_precision@20: 0.04355, val_ndcg@20: 0.08257\n",
            "[Iteration 3600/10000] train_loss: -566.92084, val_loss: -534.37408, val_recall@20: 0.12743, val_precision@20: 0.04256, val_ndcg@20: 0.08423\n",
            "[Iteration 3800/10000] train_loss: -589.42175, val_loss: -560.28406, val_recall@20: 0.12962, val_precision@20: 0.0432, val_ndcg@20: 0.08221\n",
            "[Iteration 4000/10000] train_loss: -622.75165, val_loss: -596.3764, val_recall@20: 0.1278, val_precision@20: 0.04273, val_ndcg@20: 0.0816\n",
            "[Iteration 4200/10000] train_loss: -648.3114, val_loss: -617.98901, val_recall@20: 0.13143, val_precision@20: 0.04308, val_ndcg@20: 0.08613\n",
            "[Iteration 4400/10000] train_loss: -690.3772, val_loss: -644.22229, val_recall@20: 0.13294, val_precision@20: 0.04366, val_ndcg@20: 0.08624\n",
            "[Iteration 4600/10000] train_loss: -689.8548, val_loss: -677.4007, val_recall@20: 0.13355, val_precision@20: 0.04401, val_ndcg@20: 0.08899\n",
            "[Iteration 4800/10000] train_loss: -731.04956, val_loss: -700.69556, val_recall@20: 0.1322, val_precision@20: 0.04349, val_ndcg@20: 0.0885\n",
            "[Iteration 5000/10000] train_loss: -778.34949, val_loss: -729.6084, val_recall@20: 0.1338, val_precision@20: 0.04424, val_ndcg@20: 0.08838\n",
            "[Iteration 5200/10000] train_loss: -786.96002, val_loss: -739.2832, val_recall@20: 0.13546, val_precision@20: 0.04448, val_ndcg@20: 0.09087\n",
            "[Iteration 5400/10000] train_loss: -794.25525, val_loss: -768.03217, val_recall@20: 0.13539, val_precision@20: 0.045, val_ndcg@20: 0.09138\n",
            "[Iteration 5600/10000] train_loss: -831.50623, val_loss: -782.35443, val_recall@20: 0.13422, val_precision@20: 0.04471, val_ndcg@20: 0.09114\n",
            "[Iteration 5800/10000] train_loss: -827.98987, val_loss: -818.05597, val_recall@20: 0.13238, val_precision@20: 0.04395, val_ndcg@20: 0.09019\n",
            "[Iteration 6000/10000] train_loss: -875.0968, val_loss: -831.68567, val_recall@20: 0.1307, val_precision@20: 0.0439, val_ndcg@20: 0.08933\n",
            "[Iteration 6200/10000] train_loss: -897.68652, val_loss: -835.45093, val_recall@20: 0.13224, val_precision@20: 0.04436, val_ndcg@20: 0.09106\n",
            "[Iteration 6400/10000] train_loss: -907.65887, val_loss: -857.71228, val_recall@20: 0.13284, val_precision@20: 0.04442, val_ndcg@20: 0.09099\n",
            "[Iteration 6600/10000] train_loss: -944.3877, val_loss: -892.24219, val_recall@20: 0.1327, val_precision@20: 0.04453, val_ndcg@20: 0.09126\n",
            "[Iteration 6800/10000] train_loss: -909.56818, val_loss: -916.48499, val_recall@20: 0.13333, val_precision@20: 0.04471, val_ndcg@20: 0.09184\n",
            "[Iteration 7000/10000] train_loss: -930.00507, val_loss: -911.70764, val_recall@20: 0.13137, val_precision@20: 0.04436, val_ndcg@20: 0.09149\n",
            "[Iteration 7200/10000] train_loss: -956.52203, val_loss: -934.45331, val_recall@20: 0.13095, val_precision@20: 0.04436, val_ndcg@20: 0.09092\n",
            "[Iteration 7400/10000] train_loss: -996.29523, val_loss: -946.29156, val_recall@20: 0.13239, val_precision@20: 0.04483, val_ndcg@20: 0.09144\n",
            "[Iteration 7600/10000] train_loss: -1036.44116, val_loss: -958.92468, val_recall@20: 0.13193, val_precision@20: 0.04465, val_ndcg@20: 0.09096\n",
            "[Iteration 7800/10000] train_loss: -1022.25018, val_loss: -965.25238, val_recall@20: 0.13145, val_precision@20: 0.04436, val_ndcg@20: 0.09079\n",
            "[Iteration 8000/10000] train_loss: -1043.09546, val_loss: -963.8244, val_recall@20: 0.13356, val_precision@20: 0.04483, val_ndcg@20: 0.09183\n",
            "[Iteration 8200/10000] train_loss: -1040.94531, val_loss: -995.68958, val_recall@20: 0.13833, val_precision@20: 0.0457, val_ndcg@20: 0.09349\n",
            "[Iteration 8400/10000] train_loss: -1057.48401, val_loss: -1009.86566, val_recall@20: 0.13484, val_precision@20: 0.04512, val_ndcg@20: 0.09292\n",
            "[Iteration 8600/10000] train_loss: -1049.62329, val_loss: -1001.3241, val_recall@20: 0.13627, val_precision@20: 0.04523, val_ndcg@20: 0.0933\n",
            "[Iteration 8800/10000] train_loss: -1068.4635, val_loss: -1021.41339, val_recall@20: 0.13881, val_precision@20: 0.04547, val_ndcg@20: 0.09395\n",
            "[Iteration 9000/10000] train_loss: -1053.2832, val_loss: -1028.1676, val_recall@20: 0.13668, val_precision@20: 0.04517, val_ndcg@20: 0.09335\n",
            "[Iteration 9200/10000] train_loss: -1127.83533, val_loss: -1036.94568, val_recall@20: 0.13575, val_precision@20: 0.04529, val_ndcg@20: 0.09342\n",
            "[Iteration 9400/10000] train_loss: -1069.84375, val_loss: -1040.64014, val_recall@20: 0.13614, val_precision@20: 0.04517, val_ndcg@20: 0.09337\n",
            "[Iteration 9600/10000] train_loss: -1059.52466, val_loss: -1054.62354, val_recall@20: 0.13683, val_precision@20: 0.04558, val_ndcg@20: 0.09357\n",
            "[Iteration 9800/10000] train_loss: -1110.28833, val_loss: -1058.83118, val_recall@20: 0.13662, val_precision@20: 0.04552, val_ndcg@20: 0.09329\n"
          ]
        }
      ],
      "source": [
        "# training loop\n",
        "train_losses = []\n",
        "val_losses = []\n",
        "val_recall_at_ks = []\n",
        "\n",
        "for iter in tqdm(range(ITERATIONS)):\n",
        "    # forward propagation\n",
        "    users_emb_final, users_emb_0,  pos_items_emb_final, pos_items_emb_0, neg_items_emb_final, neg_items_emb_0 \\\n",
        "                = get_embs_for_bpr(model, train_edge_index)\n",
        "\n",
        "    # loss computation\n",
        "    train_loss = bpr_loss(users_emb_final,\n",
        "                          users_emb_0,\n",
        "                          pos_items_emb_final,\n",
        "                          pos_items_emb_0,\n",
        "                          neg_items_emb_final,\n",
        "                          neg_items_emb_0,\n",
        "                          LAMBDA)\n",
        "\n",
        "    optimizer.zero_grad()\n",
        "    train_loss.backward()\n",
        "    optimizer.step()\n",
        "\n",
        "    # validation set\n",
        "    if iter % ITERS_PER_EVAL == 0:\n",
        "        model.eval()\n",
        "\n",
        "        with torch.no_grad():\n",
        "            val_loss, recall, precision, ndcg = evaluation(model,\n",
        "                                                           val_edge_index,\n",
        "                                                           [train_edge_index],\n",
        "                                                           K,\n",
        "                                                           LAMBDA\n",
        "                                                          )\n",
        "\n",
        "            print(f\"[Iteration {iter}/{ITERATIONS}] train_loss: {round(train_loss.item(), 5)}, val_loss: {round(val_loss, 5)}, val_recall@{K}: {round(recall, 5)}, val_precision@{K}: {round(precision, 5)}, val_ndcg@{K}: {round(ndcg, 5)}\")\n",
        "\n",
        "            train_losses.append(train_loss.item())\n",
        "            val_losses.append(val_loss)\n",
        "            val_recall_at_ks.append(round(recall, 5))\n",
        "        model.train()\n",
        "\n",
        "    if iter % ITERS_PER_LR_DECAY == 0 and iter != 0:\n",
        "        scheduler.step()"
      ],
      "id": "5b7f792e"
    },
    {
      "cell_type": "markdown",
      "metadata": {
        "id": "dabdd722"
      },
      "source": [
        "# Plot"
      ],
      "id": "dabdd722"
    },
    {
      "cell_type": "code",
      "execution_count": null,
      "metadata": {
        "id": "6e32fd3b",
        "colab": {
          "base_uri": "https://localhost:8080/",
          "height": 472
        },
        "outputId": "fc88c072-6174-4688-a844-30a3abc3370e"
      },
      "outputs": [
        {
          "output_type": "display_data",
          "data": {
            "text/plain": [
              "<Figure size 640x480 with 1 Axes>"
            ],
            "image/png": "[encoded data removed]"
          },
          "metadata": {}
        }
      ],
      "source": [
        "iters = [iter * ITERS_PER_EVAL for iter in range(len(train_losses))]\n",
        "plt.plot(iters, train_losses, label='train')\n",
        "plt.plot(iters, val_losses, label='validation')\n",
        "plt.xlabel('iteration')\n",
        "plt.ylabel('loss')\n",
        "plt.title('training and validation loss curves')\n",
        "plt.legend()\n",
        "plt.show()"
      ],
      "id": "6e32fd3b"
    },
    {
      "cell_type": "code",
      "execution_count": null,
      "metadata": {
        "id": "203b99c0",
        "colab": {
          "base_uri": "https://localhost:8080/",
          "height": 472
        },
        "outputId": "17c25bd8-cf9d-4b2e-80be-bc28809b86ad"
      },
      "outputs": [
        {
          "output_type": "display_data",
          "data": {
            "text/plain": [
              "<Figure size 640x480 with 1 Axes>"
            ],
            "image/png": "[encoded data removed]"
          },
          "metadata": {}
        }
      ],
      "source": [
        "f2 = plt.figure()\n",
        "plt.plot(iters, val_recall_at_ks, label='recall_at_k')\n",
        "plt.xlabel('iteration')\n",
        "plt.ylabel('recall_at_k')\n",
        "plt.title('recall_at_k curves')\n",
        "plt.show()"
      ],
      "id": "203b99c0"
    },
    {
      "cell_type": "code",
      "execution_count": null,
      "metadata": {
        "id": "c9c96a3f",
        "colab": {
          "base_uri": "https://localhost:8080/"
        },
        "outputId": "ac9b8871-b635-4361-ff6a-e2792011c677"
      },
      "outputs": [
        {
          "output_type": "stream",
          "name": "stdout",
          "text": [
            "[test_loss: -1061.35291, test_recall@20: 0.13031, test_precision@20: 0.04424, test_ndcg@20: 0.09132\n"
          ]
        }
      ],
      "source": [
        "# evaluate on test set\n",
        "model.eval()\n",
        "test_edge_index = test_edge_index.to(device)\n",
        "\n",
        "test_loss, test_recall, test_precision, test_ndcg = evaluation(model,\n",
        "                                                               test_edge_index,\n",
        "                                                               [train_edge_index, val_edge_index],\n",
        "                                                               K,\n",
        "                                                               LAMBDA\n",
        "                                                              )\n",
        "\n",
        "print(f\"[test_loss: {round(test_loss, 5)}, test_recall@{K}: {round(test_recall, 5)}, test_precision@{K}: {round(test_precision, 5)}, test_ndcg@{K}: {round(test_ndcg, 5)}\")"
      ],
      "id": "c9c96a3f"
    },
    {
      "cell_type": "code",
      "execution_count": null,
      "metadata": {
        "id": "fb7489fd"
      },
      "outputs": [],
      "source": [],
      "id": "fb7489fd"
    }
  ],
  "metadata": {
    "accelerator": "GPU",
    "colab": {
      "provenance": []
    },
    "kernelspec": {
      "display_name": "Python 3",
      "name": "python3"
    },
    "language_info": {
      "codemirror_mode": {
        "name": "ipython",
        "version": 3
      },
      "file_extension": ".py",
      "mimetype": "text/x-python",
      "name": "python",
      "nbconvert_exporter": "python",
      "pygments_lexer": "ipython3",
      "version": "3.7.13"
    },
    "widgets": {
      "application/vnd.jupyter.widget-state+json": {
        "a9d1fcae101743719a44624e38135629": {
          "model_module": "@jupyter-widgets/controls",
          "model_name": "HBoxModel",
          "model_module_version": "1.5.0",
          "state": {
            "_dom_classes": [],
            "_model_module": "@jupyter-widgets/controls",
            "_model_module_version": "1.5.0",
            "_model_name": "HBoxModel",
            "_view_count": null,
            "_view_module": "@jupyter-widgets/controls",
            "_view_module_version": "1.5.0",
            "_view_name": "HBoxView",
            "box_style": "",
            "children": [
              "IPY_MODEL_e9089a5b38fe47f880a8884e4ef83f09",
              "IPY_MODEL_aa5dc329855e47f7b689e9b930d36135",
              "IPY_MODEL_c9e2e63c41b14dbcb8f1f1c395372d6f"
            ],
            "layout": "IPY_MODEL_8121d34534d64798a65a2352d764bbbd"
          }
        },
        "e9089a5b38fe47f880a8884e4ef83f09": {
          "model_module": "@jupyter-widgets/controls",
          "model_name": "HTMLModel",
          "model_module_version": "1.5.0",
          "state": {
            "_dom_classes": [],
            "_model_module": "@jupyter-widgets/controls",
            "_model_module_version": "1.5.0",
            "_model_name": "HTMLModel",
            "_view_count": null,
            "_view_module": "@jupyter-widgets/controls",
            "_view_module_version": "1.5.0",
            "_view_name": "HTMLView",
            "description": "",
            "description_tooltip": null,
            "layout": "IPY_MODEL_099c6fd470a14040a67f48e93787f7b3",
            "placeholder": "​",
            "style": "IPY_MODEL_d22b9194aa4d4ff8be18d23c331529b7",
            "value": "100%"
          }
        },
        "aa5dc329855e47f7b689e9b930d36135": {
          "model_module": "@jupyter-widgets/controls",
          "model_name": "FloatProgressModel",
          "model_module_version": "1.5.0",
          "state": {
            "_dom_classes": [],
            "_model_module": "@jupyter-widgets/controls",
            "_model_module_version": "1.5.0",
            "_model_name": "FloatProgressModel",
            "_view_count": null,
            "_view_module": "@jupyter-widgets/controls",
            "_view_module_version": "1.5.0",
            "_view_name": "ProgressView",
            "bar_style": "success",
            "description": "",
            "description_tooltip": null,
            "layout": "IPY_MODEL_1077fb4962df46fcad33bf564f19f4f9",
            "max": 10000,
            "min": 0,
            "orientation": "horizontal",
            "style": "IPY_MODEL_1f025a2a24984a92a801512d65644c1a",
            "value": 10000
          }
        },
        "c9e2e63c41b14dbcb8f1f1c395372d6f": {
          "model_module": "@jupyter-widgets/controls",
          "model_name": "HTMLModel",
          "model_module_version": "1.5.0",
          "state": {
            "_dom_classes": [],
            "_model_module": "@jupyter-widgets/controls",
            "_model_module_version": "1.5.0",
            "_model_name": "HTMLModel",
            "_view_count": null,
            "_view_module": "@jupyter-widgets/controls",
            "_view_module_version": "1.5.0",
            "_view_name": "HTMLView",
            "description": "",
            "description_tooltip": null,
            "layout": "IPY_MODEL_a26a860fc0bf404db3bab825e6c5b15b",
            "placeholder": "​",
            "style": "IPY_MODEL_b7ff3ee025db46a49ee1d41722a6e0f9",
            "value": " 10000/10000 [07:57&lt;00:00, 36.49it/s]"
          }
        },
        "8121d34534d64798a65a2352d764bbbd": {
          "model_module": "@jupyter-widgets/base",
          "model_name": "LayoutModel",
          "model_module_version": "1.2.0",
          "state": {
            "_model_module": "@jupyter-widgets/base",
            "_model_module_version": "1.2.0",
            "_model_name": "LayoutModel",
            "_view_count": null,
            "_view_module": "@jupyter-widgets/base",
            "_view_module_version": "1.2.0",
            "_view_name": "LayoutView",
            "align_content": null,
            "align_items": null,
            "align_self": null,
            "border": null,
            "bottom": null,
            "display": null,
            "flex": null,
            "flex_flow": null,
            "grid_area": null,
            "grid_auto_columns": null,
            "grid_auto_flow": null,
            "grid_auto_rows": null,
            "grid_column": null,
            "grid_gap": null,
            "grid_row": null,
            "grid_template_areas": null,
            "grid_template_columns": null,
            "grid_template_rows": null,
            "height": null,
            "justify_content": null,
            "justify_items": null,
            "left": null,
            "margin": null,
            "max_height": null,
            "max_width": null,
            "min_height": null,
            "min_width": null,
            "object_fit": null,
            "object_position": null,
            "order": null,
            "overflow": null,
            "overflow_x": null,
            "overflow_y": null,
            "padding": null,
            "right": null,
            "top": null,
            "visibility": null,
            "width": null
          }
        },
        "099c6fd470a14040a67f48e93787f7b3": {
          "model_module": "@jupyter-widgets/base",
          "model_name": "LayoutModel",
          "model_module_version": "1.2.0",
          "state": {
            "_model_module": "@jupyter-widgets/base",
            "_model_module_version": "1.2.0",
            "_model_name": "LayoutModel",
            "_view_count": null,
            "_view_module": "@jupyter-widgets/base",
            "_view_module_version": "1.2.0",
            "_view_name": "LayoutView",
            "align_content": null,
            "align_items": null,
            "align_self": null,
            "border": null,
            "bottom": null,
            "display": null,
            "flex": null,
            "flex_flow": null,
            "grid_area": null,
            "grid_auto_columns": null,
            "grid_auto_flow": null,
            "grid_auto_rows": null,
            "grid_column": null,
            "grid_gap": null,
            "grid_row": null,
            "grid_template_areas": null,
            "grid_template_columns": null,
            "grid_template_rows": null,
            "height": null,
            "justify_content": null,
            "justify_items": null,
            "left": null,
            "margin": null,
            "max_height": null,
            "max_width": null,
            "min_height": null,
            "min_width": null,
            "object_fit": null,
            "object_position": null,
            "order": null,
            "overflow": null,
            "overflow_x": null,
            "overflow_y": null,
            "padding": null,
            "right": null,
            "top": null,
            "visibility": null,
            "width": null
          }
        },
        "d22b9194aa4d4ff8be18d23c331529b7": {
          "model_module": "@jupyter-widgets/controls",
          "model_name": "DescriptionStyleModel",
          "model_module_version": "1.5.0",
          "state": {
            "_model_module": "@jupyter-widgets/controls",
            "_model_module_version": "1.5.0",
            "_model_name": "DescriptionStyleModel",
            "_view_count": null,
            "_view_module": "@jupyter-widgets/base",
            "_view_module_version": "1.2.0",
            "_view_name": "StyleView",
            "description_width": ""
          }
        },
        "1077fb4962df46fcad33bf564f19f4f9": {
          "model_module": "@jupyter-widgets/base",
          "model_name": "LayoutModel",
          "model_module_version": "1.2.0",
          "state": {
            "_model_module": "@jupyter-widgets/base",
            "_model_module_version": "1.2.0",
            "_model_name": "LayoutModel",
            "_view_count": null,
            "_view_module": "@jupyter-widgets/base",
            "_view_module_version": "1.2.0",
            "_view_name": "LayoutView",
            "align_content": null,
            "align_items": null,
            "align_self": null,
            "border": null,
            "bottom": null,
            "display": null,
            "flex": null,
            "flex_flow": null,
            "grid_area": null,
            "grid_auto_columns": null,
            "grid_auto_flow": null,
            "grid_auto_rows": null,
            "grid_column": null,
            "grid_gap": null,
            "grid_row": null,
            "grid_template_areas": null,
            "grid_template_columns": null,
            "grid_template_rows": null,
            "height": null,
            "justify_content": null,
            "justify_items": null,
            "left": null,
            "margin": null,
            "max_height": null,
            "max_width": null,
            "min_height": null,
            "min_width": null,
            "object_fit": null,
            "object_position": null,
            "order": null,
            "overflow": null,
            "overflow_x": null,
            "overflow_y": null,
            "padding": null,
            "right": null,
            "top": null,
            "visibility": null,
            "width": null
          }
        },
        "1f025a2a24984a92a801512d65644c1a": {
          "model_module": "@jupyter-widgets/controls",
          "model_name": "ProgressStyleModel",
          "model_module_version": "1.5.0",
          "state": {
            "_model_module": "@jupyter-widgets/controls",
            "_model_module_version": "1.5.0",
            "_model_name": "ProgressStyleModel",
            "_view_count": null,
            "_view_module": "@jupyter-widgets/base",
            "_view_module_version": "1.2.0",
            "_view_name": "StyleView",
            "bar_color": null,
            "description_width": ""
          }
        },
        "a26a860fc0bf404db3bab825e6c5b15b": {
          "model_module": "@jupyter-widgets/base",
          "model_name": "LayoutModel",
          "model_module_version": "1.2.0",
          "state": {
            "_model_module": "@jupyter-widgets/base",
            "_model_module_version": "1.2.0",
            "_model_name": "LayoutModel",
            "_view_count": null,
            "_view_module": "@jupyter-widgets/base",
            "_view_module_version": "1.2.0",
            "_view_name": "LayoutView",
            "align_content": null,
            "align_items": null,
            "align_self": null,
            "border": null,
            "bottom": null,
            "display": null,
            "flex": null,
            "flex_flow": null,
            "grid_area": null,
            "grid_auto_columns": null,
            "grid_auto_flow": null,
            "grid_auto_rows": null,
            "grid_column": null,
            "grid_gap": null,
            "grid_row": null,
            "grid_template_areas": null,
            "grid_template_columns": null,
            "grid_template_rows": null,
            "height": null,
            "justify_content": null,
            "justify_items": null,
            "left": null,
            "margin": null,
            "max_height": null,
            "max_width": null,
            "min_height": null,
            "min_width": null,
            "object_fit": null,
            "object_position": null,
            "order": null,
            "overflow": null,
            "overflow_x": null,
            "overflow_y": null,
            "padding": null,
            "right": null,
            "top": null,
            "visibility": null,
            "width": null
          }
        },
        "b7ff3ee025db46a49ee1d41722a6e0f9": {
          "model_module": "@jupyter-widgets/controls",
          "model_name": "DescriptionStyleModel",
          "model_module_version": "1.5.0",
          "state": {
            "_model_module": "@jupyter-widgets/controls",
            "_model_module_version": "1.5.0",
            "_model_name": "DescriptionStyleModel",
            "_view_count": null,
            "_view_module": "@jupyter-widgets/base",
            "_view_module_version": "1.2.0",
            "_view_name": "StyleView",
            "description_width": ""
          }
        }
      }
    }
  },
  "nbformat": 4,
  "nbformat_minor": 5
}